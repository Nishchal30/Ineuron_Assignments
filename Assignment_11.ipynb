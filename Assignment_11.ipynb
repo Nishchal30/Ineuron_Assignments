{
 "cells": [
  {
   "cell_type": "markdown",
   "metadata": {},
   "source": [
    "**Q.1 What is the role of the 'else' block in a try-except statement? Provide an example\n",
    "scenario where it would be useful.**"
   ]
  },
  {
   "cell_type": "markdown",
   "metadata": {},
   "source": [
    "The else block in a try-except statement is used to define a block of code that should be executed if no exceptions are raised within the corresponding try block. In other words, if the code inside the try block runs successfully without encountering any exceptions, the code inside the else block will be executed. If an exception is raised in the try block, the code inside the else block will be skipped."
   ]
  },
  {
   "cell_type": "code",
   "execution_count": 2,
   "metadata": {},
   "outputs": [
    {
     "name": "stdout",
     "output_type": "stream",
     "text": [
      "5.0\n",
      "result 5.0\n"
     ]
    }
   ],
   "source": [
    "try:\n",
    "    a = 10\n",
    "    b = 2\n",
    "    c = a /b\n",
    "    print(c)\n",
    "except ZeroDivisionError:\n",
    "    print(\"DIvision by zero\")\n",
    "else:\n",
    "    print(\"result\", c)"
   ]
  },
  {
   "cell_type": "markdown",
   "metadata": {},
   "source": [
    "**Q.2 Can a try-except block be nested inside another try-except block? Explain with an\n",
    "example.**"
   ]
  },
  {
   "cell_type": "markdown",
   "metadata": {},
   "source": [
    "We can use another try-except block inside a try-except block which is called as nested try-except block."
   ]
  },
  {
   "cell_type": "code",
   "execution_count": 3,
   "metadata": {},
   "outputs": [
    {
     "name": "stdout",
     "output_type": "stream",
     "text": [
      "Can't divide by zero\n"
     ]
    }
   ],
   "source": [
    "try:\n",
    "    a = int(input())\n",
    "    b = int(input())\n",
    "    \n",
    "    try:\n",
    "        c = a / b\n",
    "        print(\"Result:\", c)\n",
    "    except ZeroDivisionError:\n",
    "        print(\"Can't divide by zero\")\n",
    "    \n",
    "except ValueError:\n",
    "    print(\"enter integers\")\n",
    "\n"
   ]
  },
  {
   "cell_type": "markdown",
   "metadata": {},
   "source": [
    "**Q.3 How can you create a custom exception class in Python? Provide an example that\n",
    "demonstrates its usage.** "
   ]
  },
  {
   "cell_type": "code",
   "execution_count": 23,
   "metadata": {},
   "outputs": [],
   "source": [
    "class CustomException(Exception):\n",
    "    def __init__(self, message):\n",
    "        self.message = message"
   ]
  },
  {
   "cell_type": "code",
   "execution_count": 26,
   "metadata": {},
   "outputs": [
    {
     "name": "stdout",
     "output_type": "stream",
     "text": [
      "Custom exception -ve numbers are not allowed\n"
     ]
    }
   ],
   "source": [
    "a = int(input())\n",
    "\n",
    "try:\n",
    "    if a < 0:\n",
    "        raise CustomException(\"Custom exception -ve numbers are not allowed\")\n",
    "    else:\n",
    "        print(a)\n",
    "except CustomException as c:\n",
    "    print(c)"
   ]
  },
  {
   "cell_type": "markdown",
   "metadata": {},
   "source": [
    "**Q.4 What are some common exceptions that are built-in to Python?**"
   ]
  },
  {
   "cell_type": "markdown",
   "metadata": {},
   "source": [
    "Python has many number of built in common exceptions. The most common exceptions are:\n",
    "1) ZeroDivisionError: This exception occurs when we divide any number by 0.\n",
    "2) TypeError: This exception occurs when we enter an incorrect datatype value.\n",
    "3) ValueError: This exception occurs when we enter the value with correct datatype but incorrect value.\n",
    "4) SyntaxError: This exception occurs when we write an incorrect syntax.\n",
    "5) IndentationError: This occurs when we enter incorrect indentatation."
   ]
  },
  {
   "cell_type": "markdown",
   "metadata": {},
   "source": [
    "**Q.5 What is logging in Python, and why is it important in software development?**"
   ]
  },
  {
   "cell_type": "markdown",
   "metadata": {},
   "source": [
    "Logging in Python provides the storing information about code, runtime of code, error messages. The built in module in python for logging helps us to store the logs of the programe in a file, console or any other service.\n",
    "\\\n",
    "Logging is important in software development for many reasons such as:\n",
    "1) Debugging: Easy to debug the complex programs as we get clear cut idea where our program is failing.\n",
    "2) Montitoring: Montitoring the program. we get to know just by seeing logs whether our program is executed successfully or not.\n",
    "3) Collaboration: In larger development teams, loggings helps developer to understand the program execution flow and errors easily."
   ]
  },
  {
   "cell_type": "markdown",
   "metadata": {},
   "source": [
    "**Q.6 Explain the purpose of log levels in Python logging and provide examples of when\n",
    "each log level would be appropriate.**"
   ]
  },
  {
   "cell_type": "markdown",
   "metadata": {},
   "source": [
    "The purpose of log levels in python logging is to segregate the logs based on their importance and severity. There are various log levels in python built-in logging module such as:\n",
    "1) DEBUG: This level is generally used to store the detailed information related to the flow of program and variable values.\n",
    "2) INFO: This level store all the general information about the program. This gives us the idea how our program is performing.\n",
    "3) WARNING: This stores the warning messages if any occurs during the program execution which might not lead to discontinue the program execution. exa- memory low warning.\n",
    "4) ERROR: This level stores all the errors that are being occured during the program execustion so that developer will directly get to know where our program is failing.\n",
    "5) CRITICAL: This level indicates a critical error or an exceptional condition that requires immediate attention. The program might not be able to continue after such an error. exa- Server is down."
   ]
  },
  {
   "cell_type": "markdown",
   "metadata": {},
   "source": [
    "**Q.7 What are log formatters in Python logging, and how can you customise the log\n",
    "message format using formatters?**"
   ]
  },
  {
   "cell_type": "markdown",
   "metadata": {},
   "source": [
    "The log formatters in python logging provides an customization in storing the logs in an presentable format so that we can control the appearance of logs in any log file, console. Formatters allow us to format the timestamp of the program execution in customized format, logging level, logging module and the error message.\n",
    "\\\n",
    "We can customize the below things in logging in python:\n",
    "- %(asctime)s: The timestamp of the log message.\n",
    "- %(name)s: The name of the logger.\n",
    "- %(levelname)s: The log level of the message (e.g., DEBUG, INFO, WARNING, ERROR, CRITICAL).\n",
    "- %(message)s: The actual log message."
   ]
  },
  {
   "cell_type": "markdown",
   "metadata": {},
   "source": [
    "**Q.8 How can you set up logging to capture log messages from multiple modules or\n",
    "classes in a Python application?**"
   ]
  },
  {
   "cell_type": "markdown",
   "metadata": {},
   "source": [
    "We can import logging module in any of the module or class in a python application. We can create a instance of logger wherever we want to store the logs of that particular module."
   ]
  },
  {
   "cell_type": "markdown",
   "metadata": {},
   "source": [
    "**Q.9 What is the difference between the logging and print statements in Python? When\n",
    "should you use logging over print statements in a real-world application?**"
   ]
  },
  {
   "cell_type": "markdown",
   "metadata": {},
   "source": [
    "Ideally logging and print statments in python serves the same purpose to show the information about program execution.\n",
    "\\\n",
    "But there are some major differences as below:\n",
    "- Structured Output: The logs can be stored in a structured format based on the criticality of the levels (DEBUG, INFO, WARNING, ERROR< CRITICAL), whereas print cannot give us the structured logs.\n",
    "- Debug & Development: Print statements gives us the idea of the program execution at a run time level, but logging gives us the idea of the program execution without running every code blocks. Directly developer can go that code block where the code is failing just by seeing in logs file.\n",
    "- Production environment: In production print statments can't be used as they can disclose any senistive information, wherein logging can control this but also gives us that information.\n"
   ]
  },
  {
   "cell_type": "markdown",
   "metadata": {},
   "source": [
    "**Q.10 Write a Python program that logs a message to a file named \"app.log\" with the\n",
    "following requirements:**\n",
    "- The log message should be \"Hello, World!\"\n",
    "- The log level should be set to \"INFO.\"\n",
    "- The log file should append new log entries without overwriting previous ones."
   ]
  },
  {
   "cell_type": "code",
   "execution_count": 16,
   "metadata": {},
   "outputs": [],
   "source": [
    "import logging\n",
    "\n",
    "logging.basicConfig(filename=\"app.log\", level=logging.INFO)\n",
    "\n",
    "logging.info(\"Hello, World!\")"
   ]
  },
  {
   "cell_type": "markdown",
   "metadata": {},
   "source": [
    "**Q.11 Create a Python program that logs an error message to the console and a file named\n",
    "\"errors.log\" if an exception occurs during the program's execution. The error\n",
    "message should include the exception type and a timestamp.**"
   ]
  },
  {
   "cell_type": "code",
   "execution_count": 42,
   "metadata": {},
   "outputs": [
    {
     "name": "stderr",
     "output_type": "stream",
     "text": [
      "--- Logging error ---\n",
      "Traceback (most recent call last):\n",
      "  File \"C:\\Users\\OWNER\\AppData\\Local\\Temp\\ipykernel_11484\\2832686086.py\", line 18, in <module>\n",
      "    c = a / b\n",
      "        ~~^~~\n",
      "ZeroDivisionError: division by zero\n",
      "\n",
      "During handling of the above exception, another exception occurred:\n",
      "\n",
      "Traceback (most recent call last):\n",
      "  File \"c:\\Users\\OWNER\\anaconda3\\envs\\practise\\Lib\\logging\\__init__.py\", line 1110, in emit\n",
      "    msg = self.format(record)\n",
      "          ^^^^^^^^^^^^^^^^^^^\n",
      "  File \"c:\\Users\\OWNER\\anaconda3\\envs\\practise\\Lib\\logging\\__init__.py\", line 953, in format\n",
      "    return fmt.format(record)\n",
      "           ^^^^^^^^^^^^^^^^^^\n",
      "  File \"c:\\Users\\OWNER\\anaconda3\\envs\\practise\\Lib\\logging\\__init__.py\", line 687, in format\n",
      "    record.message = record.getMessage()\n",
      "                     ^^^^^^^^^^^^^^^^^^^\n",
      "  File \"c:\\Users\\OWNER\\anaconda3\\envs\\practise\\Lib\\logging\\__init__.py\", line 377, in getMessage\n",
      "    msg = msg % self.args\n",
      "          ~~~~^~~~~~~~~~~\n",
      "TypeError: not all arguments converted during string formatting\n",
      "Call stack:\n",
      "  File \"<frozen runpy>\", line 198, in _run_module_as_main\n",
      "  File \"<frozen runpy>\", line 88, in _run_code\n",
      "  File \"c:\\Users\\OWNER\\anaconda3\\envs\\practise\\Lib\\site-packages\\ipykernel_launcher.py\", line 17, in <module>\n",
      "    app.launch_new_instance()\n",
      "  File \"c:\\Users\\OWNER\\anaconda3\\envs\\practise\\Lib\\site-packages\\traitlets\\config\\application.py\", line 1043, in launch_instance\n",
      "    app.start()\n",
      "  File \"c:\\Users\\OWNER\\anaconda3\\envs\\practise\\Lib\\site-packages\\ipykernel\\kernelapp.py\", line 725, in start\n",
      "    self.io_loop.start()\n",
      "  File \"c:\\Users\\OWNER\\anaconda3\\envs\\practise\\Lib\\site-packages\\tornado\\platform\\asyncio.py\", line 195, in start\n",
      "    self.asyncio_loop.run_forever()\n",
      "  File \"c:\\Users\\OWNER\\anaconda3\\envs\\practise\\Lib\\asyncio\\base_events.py\", line 607, in run_forever\n",
      "    self._run_once()\n",
      "  File \"c:\\Users\\OWNER\\anaconda3\\envs\\practise\\Lib\\asyncio\\base_events.py\", line 1922, in _run_once\n",
      "    handle._run()\n",
      "  File \"c:\\Users\\OWNER\\anaconda3\\envs\\practise\\Lib\\asyncio\\events.py\", line 80, in _run\n",
      "    self._context.run(self._callback, *self._args)\n",
      "  File \"c:\\Users\\OWNER\\anaconda3\\envs\\practise\\Lib\\site-packages\\ipykernel\\kernelbase.py\", line 513, in dispatch_queue\n",
      "    await self.process_one()\n",
      "  File \"c:\\Users\\OWNER\\anaconda3\\envs\\practise\\Lib\\site-packages\\ipykernel\\kernelbase.py\", line 502, in process_one\n",
      "    await dispatch(*args)\n",
      "  File \"c:\\Users\\OWNER\\anaconda3\\envs\\practise\\Lib\\site-packages\\ipykernel\\kernelbase.py\", line 409, in dispatch_shell\n",
      "    await result\n",
      "  File \"c:\\Users\\OWNER\\anaconda3\\envs\\practise\\Lib\\site-packages\\ipykernel\\kernelbase.py\", line 729, in execute_request\n",
      "    reply_content = await reply_content\n",
      "  File \"c:\\Users\\OWNER\\anaconda3\\envs\\practise\\Lib\\site-packages\\ipykernel\\ipkernel.py\", line 422, in do_execute\n",
      "    res = shell.run_cell(\n",
      "  File \"c:\\Users\\OWNER\\anaconda3\\envs\\practise\\Lib\\site-packages\\ipykernel\\zmqshell.py\", line 540, in run_cell\n",
      "    return super().run_cell(*args, **kwargs)\n",
      "  File \"c:\\Users\\OWNER\\anaconda3\\envs\\practise\\Lib\\site-packages\\IPython\\core\\interactiveshell.py\", line 3009, in run_cell\n",
      "    result = self._run_cell(\n",
      "  File \"c:\\Users\\OWNER\\anaconda3\\envs\\practise\\Lib\\site-packages\\IPython\\core\\interactiveshell.py\", line 3064, in _run_cell\n",
      "    result = runner(coro)\n",
      "  File \"c:\\Users\\OWNER\\anaconda3\\envs\\practise\\Lib\\site-packages\\IPython\\core\\async_helpers.py\", line 129, in _pseudo_sync_runner\n",
      "    coro.send(None)\n",
      "  File \"c:\\Users\\OWNER\\anaconda3\\envs\\practise\\Lib\\site-packages\\IPython\\core\\interactiveshell.py\", line 3269, in run_cell_async\n",
      "    has_raised = await self.run_ast_nodes(code_ast.body, cell_name,\n",
      "  File \"c:\\Users\\OWNER\\anaconda3\\envs\\practise\\Lib\\site-packages\\IPython\\core\\interactiveshell.py\", line 3448, in run_ast_nodes\n",
      "    if await self.run_code(code, result, async_=asy):\n",
      "  File \"c:\\Users\\OWNER\\anaconda3\\envs\\practise\\Lib\\site-packages\\IPython\\core\\interactiveshell.py\", line 3508, in run_code\n",
      "    exec(code_obj, self.user_global_ns, self.user_ns)\n",
      "  File \"C:\\Users\\OWNER\\AppData\\Local\\Temp\\ipykernel_11484\\2832686086.py\", line 20, in <module>\n",
      "    logging.info(\"The error occured\", e)\n",
      "Message: 'The error occured'\n",
      "Arguments: (ZeroDivisionError('division by zero'),)\n"
     ]
    }
   ],
   "source": [
    "import logging\n",
    "import os\n",
    "\n",
    "file_path = os.getcwd()\n",
    "file_name = \"errors.log\"\n",
    "\n",
    "full_path = os.path.join(file_path, file_name)\n",
    "\n",
    "logging.basicConfig(filename=full_path, level=logging.INFO)\n",
    "logging.StreamHandler()\n",
    "\n",
    "try:\n",
    "    a = int(input())\n",
    "    b = int(input())\n",
    "    \n",
    "    logging.debug(f\"the inputs are {a} & {b}\")\n",
    "    try:\n",
    "        c = a / b\n",
    "    except Exception as e:\n",
    "        logging.info(\"The error occured\", e)\n",
    "    \n",
    "except Exception as e:\n",
    "    logging.info(\"error is:\",e)"
   ]
  },
  {
   "cell_type": "code",
   "execution_count": null,
   "metadata": {},
   "outputs": [],
   "source": []
  }
 ],
 "metadata": {
  "kernelspec": {
   "display_name": "practise",
   "language": "python",
   "name": "python3"
  },
  "language_info": {
   "codemirror_mode": {
    "name": "ipython",
    "version": 3
   },
   "file_extension": ".py",
   "mimetype": "text/x-python",
   "name": "python",
   "nbconvert_exporter": "python",
   "pygments_lexer": "ipython3",
   "version": "3.11.3"
  },
  "orig_nbformat": 4
 },
 "nbformat": 4,
 "nbformat_minor": 2
}
