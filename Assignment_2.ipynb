{
 "cells": [
  {
   "attachments": {},
   "cell_type": "markdown",
   "metadata": {},
   "source": [
    "**1.What are the two values of the Boolean data type? How do you write them?**"
   ]
  },
  {
   "attachments": {},
   "cell_type": "markdown",
   "metadata": {},
   "source": [
    "The two values of the Boolean data type are True and False.\n",
    "\n",
    "We write them in python simply as True and False."
   ]
  },
  {
   "attachments": {},
   "cell_type": "markdown",
   "metadata": {},
   "source": [
    "**2. What are the three different types of Boolean operators?**"
   ]
  },
  {
   "attachments": {},
   "cell_type": "markdown",
   "metadata": {},
   "source": [
    "The three different types of boolean operators are \n",
    "1) AND :- AND gives the result only when both the conditions are satisfied\n",
    "2) OR :- OR gives the result when any of the one condition is satisfied\n",
    "3) NOT :- NOT is the negation means gives result as negative of the result."
   ]
  },
  {
   "attachments": {},
   "cell_type": "markdown",
   "metadata": {},
   "source": [
    "**3. Make a list of each Boolean operator's truth tables (i.e. every possible combination of Boolean values for the operator and what it evaluate ).**"
   ]
  },
  {
   "attachments": {},
   "cell_type": "markdown",
   "metadata": {},
   "source": [
    " *1) First we will take all the trues*\n",
    "- True + True = 2\n",
    "- True - True = 0\n",
    "- True * True = 1\n",
    "- True / True = 1\n",
    "\n",
    " *2) Second we will first one true & second one false condition.*\n",
    "- True + False = 1\n",
    "- True - False = 1\n",
    "- True * False = 0\n",
    "- True / False = Error(Zero Division error)\n",
    "\n",
    " *3) All False condition.*\n",
    "- False + False = 0\n",
    "- False - False = 0\n",
    "- False * False = 0\n",
    "- False / False = Error(Zero Division error)\n",
    "\n",
    " *4) At last we will take first one False and second one True condition.*\n",
    "- False + True = 1\n",
    "- False - True = -1\n",
    "- False * True = 0\n",
    "- False / True = 0\n",
    "\n"
   ]
  },
  {
   "attachments": {},
   "cell_type": "markdown",
   "metadata": {},
   "source": [
    "**4. What are the values of the following expressions?**\n",
    "- (5 > 4) and (3 == 5)\n",
    "- not (5 > 4)\n",
    "- (5 > 4) or (3 == 5)\n",
    "- not ((5 > 4) or (3 == 5))\n",
    "- (True and True) and (True == False)\n",
    "- (not False) or (not True)\n"
   ]
  },
  {
   "attachments": {},
   "cell_type": "markdown",
   "metadata": {},
   "source": [
    "### **Answer**"
   ]
  },
  {
   "attachments": {},
   "cell_type": "markdown",
   "metadata": {},
   "source": [
    "- (5 > 4) and (3 == 5)  = True and False = False\n",
    "- not (5 > 4) = not(True) = False\n",
    "- (5 > 4) or (3 == 5) = True or False = True\n",
    "- not ((5 > 4) or (3 == 5)) = not(True or False) = False\n",
    "- (True and True) and (True == False) = True and False = False\n",
    "- (not False) or (not True) = True or False = True"
   ]
  },
  {
   "attachments": {},
   "cell_type": "markdown",
   "metadata": {},
   "source": [
    "**5. What are the six comparison operators?**"
   ]
  },
  {
   "attachments": {},
   "cell_type": "markdown",
   "metadata": {},
   "source": [
    "The six comparison operators are:\n",
    "  - less than exa. (a < b)\n",
    "  - less than or equal to exa.(a <= b)\n",
    "  - greater than exa.(a > b)\n",
    "  - greater than or equal to exa.(a >= b)\n",
    "  - equal to exa.(a == b)\n",
    "  - not equal to exa.(a != b)"
   ]
  },
  {
   "attachments": {},
   "cell_type": "markdown",
   "metadata": {},
   "source": [
    "**6. How do you tell the difference between the equal to and assignment operators?Describe a condition and when you would use one.**"
   ]
  },
  {
   "attachments": {},
   "cell_type": "markdown",
   "metadata": {},
   "source": [
    "Equal to operator is used when we have to compare the two values\n",
    "- for exa. 5 == 5 \n",
    "- In this we are comparing 5 with 5 so this is an equal to operator\n",
    "\n",
    "Assignment operator is used when we have to assign a value to any variable.\n",
    "- for exa. a = 5\n",
    "- In this we are assigning a value 5 to a variable ***a***."
   ]
  },
  {
   "attachments": {},
   "cell_type": "markdown",
   "metadata": {},
   "source": [
    "**7. Identify the three blocks in this code:**\n",
    "\\\n",
    "spam = 0\n",
    "\\\n",
    "if spam == 10:\n",
    "\\\n",
    "print('eggs')\n",
    "\\\n",
    "if spam > 5:\n",
    "\\\n",
    "print('bacon')\n",
    "\\\n",
    "else:\n",
    "\\\n",
    "print('ham')\n",
    "\\\n",
    "print('spam')\n",
    "\\\n",
    "print('spam')\n"
   ]
  },
  {
   "attachments": {},
   "cell_type": "markdown",
   "metadata": {},
   "source": [
    "**Answer**\n",
    "\n",
    "spam = 0\n",
    "\\\n",
    "if spam == 10: ---- first block\n",
    "    \\\n",
    "&emsp;print('eggs') \n",
    "\\\n",
    "if spam > 5:  ---- second block\n",
    "\\\n",
    "&emsp;print('bacon')\n",
    "\\\n",
    "else: ---- third block\n",
    "\\\n",
    "&emsp;print('ham') \n",
    "\\\n",
    "print('spam')\n",
    "\\\n",
    "print('spam')"
   ]
  },
  {
   "attachments": {},
   "cell_type": "markdown",
   "metadata": {},
   "source": [
    "**8. Write code that prints Hello if 1 is stored in spam, prints Howdy if 2 is stored in spam, and prints Greetings! if anything else is stored in spam.**"
   ]
  },
  {
   "cell_type": "code",
   "execution_count": 4,
   "metadata": {},
   "outputs": [
    {
     "name": "stdout",
     "output_type": "stream",
     "text": [
      "Greetings!\n"
     ]
    }
   ],
   "source": [
    "spam = 3\n",
    "if spam == 1:\n",
    "    print(\"Hello\")\n",
    "if spam == 2:\n",
    "    print(\"Howdy\")\n",
    "else:\n",
    "    print(\"Greetings!\")"
   ]
  },
  {
   "attachments": {},
   "cell_type": "markdown",
   "metadata": {},
   "source": [
    "**9.If your programme is stuck in an endless loop, what keys you’ll press?**"
   ]
  },
  {
   "attachments": {},
   "cell_type": "markdown",
   "metadata": {},
   "source": [
    "If the programme is stuck in an endless loop, we should wither press ***ctrl+C*** to break the loop or we can interupt the kernel by pressing the interupt button in the jupyter notebook."
   ]
  },
  {
   "attachments": {},
   "cell_type": "markdown",
   "metadata": {},
   "source": [
    "**10. How can you tell the difference between break and continue?**"
   ]
  },
  {
   "attachments": {},
   "cell_type": "markdown",
   "metadata": {},
   "source": [
    "Difference between break and continue:\n",
    "- **break** :- break keyword is used when we want to stop or break our loop and control should come out of the loop and execute the remaining block of code outside the loop.\n",
    "- **continue** :- continue keyword is used when we want to stop or end the current iteration of loop not a complete loop. It will execute the next iteration of loop after the use of continue."
   ]
  },
  {
   "attachments": {},
   "cell_type": "markdown",
   "metadata": {},
   "source": [
    "**11. In a for loop, what is the difference between range(10), range(0, 10), and range(0, 10, 1)?**"
   ]
  },
  {
   "attachments": {},
   "cell_type": "markdown",
   "metadata": {},
   "source": [
    "In a for loop, all the three range(10), range(0, 10) and range(0,10,1) gives the same result.\n",
    "All will print the values starting from 0 till 9 incrementing by 1."
   ]
  },
  {
   "attachments": {},
   "cell_type": "markdown",
   "metadata": {},
   "source": [
    "**12. Write a short program that prints the numbers 1 to 10 using a for loop. Then write an equivalent program that prints the numbers 1 to 10 using a while loop.**"
   ]
  },
  {
   "cell_type": "code",
   "execution_count": 13,
   "metadata": {},
   "outputs": [
    {
     "name": "stdout",
     "output_type": "stream",
     "text": [
      "1 to 10 using for loop\n",
      "1\n",
      "2\n",
      "3\n",
      "4\n",
      "5\n",
      "6\n",
      "7\n",
      "8\n",
      "9\n",
      "10\n",
      "\n",
      "\n",
      "1 to 10 using while loop\n",
      "0\n",
      "1\n",
      "2\n",
      "3\n",
      "4\n",
      "5\n",
      "6\n",
      "7\n",
      "8\n",
      "9\n",
      "10\n"
     ]
    }
   ],
   "source": [
    "print(\"1 to 10 using for loop\")\n",
    "for i in range(1, 11):\n",
    "    print(i)\n",
    "\n",
    "print(\"\\n\")\n",
    "print(\"1 to 10 using while loop\")\n",
    "a = 0\n",
    "while(a <= 10):\n",
    "    print(a)\n",
    "    a = a + 1"
   ]
  },
  {
   "attachments": {},
   "cell_type": "markdown",
   "metadata": {},
   "source": [
    "**13. If you had a function named bacon() inside a module named spam, how would you call it after importing spam?**"
   ]
  },
  {
   "attachments": {},
   "cell_type": "markdown",
   "metadata": {},
   "source": [
    "The function can be called by using this method spam.bacon()"
   ]
  },
  {
   "attachments": {},
   "cell_type": "markdown",
   "metadata": {},
   "source": []
  }
 ],
 "metadata": {
  "kernelspec": {
   "display_name": "practenv",
   "language": "python",
   "name": "python3"
  },
  "language_info": {
   "codemirror_mode": {
    "name": "ipython",
    "version": 3
   },
   "file_extension": ".py",
   "mimetype": "text/x-python",
   "name": "python",
   "nbconvert_exporter": "python",
   "pygments_lexer": "ipython3",
   "version": "3.11.3"
  },
  "orig_nbformat": 4
 },
 "nbformat": 4,
 "nbformat_minor": 2
}
