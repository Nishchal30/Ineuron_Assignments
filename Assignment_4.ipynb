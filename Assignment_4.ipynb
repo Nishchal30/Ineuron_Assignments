{
 "cells": [
  {
   "attachments": {},
   "cell_type": "markdown",
   "metadata": {},
   "source": [
    "### 1. What exactly is []?"
   ]
  },
  {
   "attachments": {},
   "cell_type": "markdown",
   "metadata": {},
   "source": [
    "[] is basically an empty list. [] denotes the datatype list in python. "
   ]
  },
  {
   "attachments": {},
   "cell_type": "markdown",
   "metadata": {},
   "source": [
    "#### 2. In a list of values stored in a variable called spam, how would you assign the value 'hello' as the third value? (Assume [2, 4, 6, 8, 10] are in spam.)"
   ]
  },
  {
   "cell_type": "code",
   "execution_count": 2,
   "metadata": {},
   "outputs": [
    {
     "name": "stdout",
     "output_type": "stream",
     "text": [
      "[2, 4, 'hello', 8, 10]\n"
     ]
    }
   ],
   "source": [
    "spam = [2, 4, 6, 8, 10]\n",
    "\n",
    "# we need to assign value 'hello' as the third value.\n",
    "\n",
    "spam[2] = 'hello'\n",
    "\n",
    "print(spam)"
   ]
  },
  {
   "attachments": {},
   "cell_type": "markdown",
   "metadata": {},
   "source": [
    "Let's pretend the spam includes the list ['a', 'b', 'c', 'd'] for the next three queries.\n",
    "### 3. What is the value of spam[int(int('3' * 2) / 11)]?\n"
   ]
  },
  {
   "attachments": {},
   "cell_type": "markdown",
   "metadata": {},
   "source": [
    "spam = ['a','b','c','d']\n",
    "\n",
    "spam[int(int('3'*2)/11)]\n",
    "\n",
    "**it will result the 3rd index 'd' from the spam list**\n",
    "\n",
    "explaination :- \n",
    "1) First of all it will solve inner bracket ('3'*2) = This will give '33' as string multiplication replicates the string.\n",
    "2) Then it will convert '33' string into integer datatyp and divide with 11 so it will give 3.0\n",
    "3) After division it will give a float number so again it will convert it into integer datatype hence it will give 3.\n",
    "4) And finally spam[3] == 'd' hence it will return **'d'**.\n"
   ]
  },
  {
   "attachments": {},
   "cell_type": "markdown",
   "metadata": {},
   "source": [
    "### 4. What is the value of spam[-1]?"
   ]
  },
  {
   "attachments": {},
   "cell_type": "markdown",
   "metadata": {},
   "source": [
    "spam[-1] will give the result as 'd' as negative index start from the last element. "
   ]
  },
  {
   "attachments": {},
   "cell_type": "markdown",
   "metadata": {},
   "source": [
    "### 5. What is the value of spam[:2]?"
   ]
  },
  {
   "attachments": {},
   "cell_type": "markdown",
   "metadata": {},
   "source": [
    "The value of spam[:2] will be **['a', 'b']** as the slicing operations index starts from 0.\n",
    "\\\n",
    "so it starts from left side of colon i.e. 0 till right side of colon i.e. 2. "
   ]
  },
  {
   "attachments": {},
   "cell_type": "markdown",
   "metadata": {},
   "source": [
    "Let's pretend bacon has the list [3.14, 'cat,' 11, 'cat,' True] for the next three questions.\n",
    "#### 6. What is the value of bacon.index('cat')?\n"
   ]
  },
  {
   "attachments": {},
   "cell_type": "markdown",
   "metadata": {},
   "source": [
    "bacon = [3.14, 'cat,' 11, 'cat,' True]\n",
    "\n",
    "bacon.index('cat') will give the index where the element 'cat' is present in bacon list.\n",
    "\\\n",
    "so the index starts from 0 and 'cat' is the second element after 3.14 so the index of 'cat' is 1.\n",
    "\\\n",
    "Although there are two 'cat' elements present, but it will take only 1st occurence.\n",
    "\\\n",
    "Hence bacon.index('cat') = 1"
   ]
  },
  {
   "attachments": {},
   "cell_type": "markdown",
   "metadata": {},
   "source": [
    "### 7. How does bacon.append(99) change the look of the list value in bacon?"
   ]
  },
  {
   "attachments": {},
   "cell_type": "markdown",
   "metadata": {},
   "source": [
    "bacon.append(99) this will add 99 in the last of the bacon list.\n",
    "\\\n",
    "so the bacon list will be [3.14, 'cat,' 11, 'cat,' True, 99]"
   ]
  },
  {
   "attachments": {},
   "cell_type": "markdown",
   "metadata": {},
   "source": [
    "### 8. How does bacon.remove('cat') change the look of the list in bacon?"
   ]
  },
  {
   "attachments": {},
   "cell_type": "markdown",
   "metadata": {},
   "source": [
    "bacon.remove('cat') will remove the element 'cat' from the first occurence only.\n",
    "\\\n",
    "so after removing the new bacon list will be [3.14, 11, 'cat,' True, 99]"
   ]
  },
  {
   "attachments": {},
   "cell_type": "markdown",
   "metadata": {},
   "source": [
    "### 9. What are the list concatenation and list replication operators?"
   ]
  },
  {
   "attachments": {},
   "cell_type": "markdown",
   "metadata": {},
   "source": [
    "The list concatenation opration uses '+' operator and list replication uses '*' operator."
   ]
  },
  {
   "attachments": {},
   "cell_type": "markdown",
   "metadata": {},
   "source": [
    "### 10. What is difference between the list methods append() and insert()?"
   ]
  },
  {
   "attachments": {},
   "cell_type": "markdown",
   "metadata": {},
   "source": [
    "The append method will add the element in the last of the list, while insert method will add the element at the spcified location.\n",
    "\\\n",
    "- append() will take only argument that is the element which needs to added in the list.\n",
    "- insert() will take two arguments, first is the index at which the element is needs to be added. second one is the element.\n"
   ]
  },
  {
   "attachments": {},
   "cell_type": "markdown",
   "metadata": {},
   "source": [
    "### 11. What are the two methods for removing items from a list?"
   ]
  },
  {
   "attachments": {},
   "cell_type": "markdown",
   "metadata": {},
   "source": [
    "Two methods for removing item from list are:\n",
    "- remove() this will remove the element which was passed in remove().\n",
    "- pop() will remove the last element of the list."
   ]
  },
  {
   "attachments": {},
   "cell_type": "markdown",
   "metadata": {},
   "source": [
    "### 12. Describe how list values and string values are identical."
   ]
  },
  {
   "attachments": {},
   "cell_type": "markdown",
   "metadata": {},
   "source": [
    "The list values and string values are identical because they both follow a sequence of storing the data.\n",
    "- List can store any type of data while string can only store the charecter data.\n",
    "- Lists are mutable while the strings are immutable."
   ]
  },
  {
   "attachments": {},
   "cell_type": "markdown",
   "metadata": {},
   "source": [
    "### 13. What's the difference between tuples and lists?"
   ]
  },
  {
   "attachments": {},
   "cell_type": "markdown",
   "metadata": {},
   "source": [
    "The difference between tuples and lists is that the tuples are immutable while lists are mutable\n",
    "\\\n",
    "Mutable means that we can change the elememts of the list after its declaration\n",
    "\\\n",
    "Immutable means we cannot change the elements of the tuples after the declaration"
   ]
  },
  {
   "attachments": {},
   "cell_type": "markdown",
   "metadata": {},
   "source": [
    "### 14. How do you type a tuple value that only contains the integer 42?"
   ]
  },
  {
   "attachments": {},
   "cell_type": "markdown",
   "metadata": {},
   "source": [
    "We can type 42 in () for writing as a tuple, but if we have to enter only one integer value in the tuple, then we must need to put a comma after the value\n",
    "\\\n",
    "exa: (42,)"
   ]
  },
  {
   "attachments": {},
   "cell_type": "markdown",
   "metadata": {},
   "source": [
    "### 15. How do you get a list value's tuple form? How do you get a tuple value's list form?"
   ]
  },
  {
   "attachments": {},
   "cell_type": "markdown",
   "metadata": {},
   "source": [
    "If we have to get a list value's in tuple for then we can write tuple(list name)\n",
    "\\\n",
    "If we have to get a tuple value's in list form the write list(tuple name)"
   ]
  },
  {
   "attachments": {},
   "cell_type": "markdown",
   "metadata": {},
   "source": [
    "### 16. Variables that \"contain\" list values are not necessarily lists themselves. Instead, what do they contain?"
   ]
  },
  {
   "attachments": {},
   "cell_type": "markdown",
   "metadata": {},
   "source": [
    "The contain keyword references to the values of the list, not a list itself. Basically it tries to check whether a particular element present in the list or not"
   ]
  },
  {
   "attachments": {},
   "cell_type": "markdown",
   "metadata": {},
   "source": [
    "### 17. How do you distinguish between copy.copy() and copy.deepcopy()?"
   ]
  },
  {
   "attachments": {},
   "cell_type": "markdown",
   "metadata": {},
   "source": [
    "copy.copy() creates a new object and assign values into new object as per the reference of the original one.\n",
    "\\\n",
    "copy.deepcopy() creates a new object and inserts the elements of the original one into the new one regardless of the reference."
   ]
  },
  {
   "attachments": {},
   "cell_type": "markdown",
   "metadata": {},
   "source": []
  }
 ],
 "metadata": {
  "kernelspec": {
   "display_name": "practise",
   "language": "python",
   "name": "python3"
  },
  "language_info": {
   "codemirror_mode": {
    "name": "ipython",
    "version": 3
   },
   "file_extension": ".py",
   "mimetype": "text/x-python",
   "name": "python",
   "nbconvert_exporter": "python",
   "pygments_lexer": "ipython3",
   "version": "3.11.3"
  },
  "orig_nbformat": 4
 },
 "nbformat": 4,
 "nbformat_minor": 2
}
