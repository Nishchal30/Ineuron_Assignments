{
 "cells": [
  {
   "attachments": {},
   "cell_type": "markdown",
   "metadata": {},
   "source": [
    "**Q.1 In Python, what is the difference between a built-in function and a user-defined function? Provide an**\n",
    "**example of each.**"
   ]
  },
  {
   "attachments": {},
   "cell_type": "markdown",
   "metadata": {},
   "source": [
    "- A built in function is the pre-defined function in python, which we don't have to define before calling that function.\n",
    "\\\n",
    "exa: print()\n",
    "- A user-defined function is the function which we have to create manually for a specific task.\n",
    "\\\n",
    "exa: def add():\n",
    "\n"
   ]
  },
  {
   "attachments": {},
   "cell_type": "markdown",
   "metadata": {},
   "source": [
    "**Q.2 How can you pass arguments to a function in Python? Explain the difference between positional**\n",
    "**arguments and keyword arguments**"
   ]
  },
  {
   "attachments": {},
   "cell_type": "markdown",
   "metadata": {},
   "source": [
    "There are two methods for passing arguments to a function in python\n",
    "1) Positional Arguments\n",
    "2) Keyword Argument\n",
    "\n",
    "1) Positional Arguments:- Positional arguments are arguments that needs to be passed in the proper position or order.\n",
    "\\\n",
    "exa:- def func(num1, num2):\n",
    "\\\n",
    "&ensp; print(f\"Num 1: {num1}, Num 2: {num2}\")\n",
    "2) Keyword Argument:- A keyword argument is an argument passed to a function with a keyword name followed by equal to sign and then that keyword value.\n",
    "\\\n",
    "exa:- def add(num1, num2):\n",
    "\\\n",
    "&ensp; print(num1 + num2)"
   ]
  },
  {
   "attachments": {},
   "cell_type": "markdown",
   "metadata": {},
   "source": [
    "**Q.3 What is the purpose of the return statement in a function? Can a function have multiple return**\n",
    "**statements? Explain with an example.**"
   ]
  },
  {
   "attachments": {},
   "cell_type": "markdown",
   "metadata": {},
   "source": [
    "The purpose of the return statement to return the function to the object of that function which has been created and will show that return object as the output of that function.\n",
    "\\\n",
    "We can use multiple return statements in a function, but only if we have to return a value based on the conditions."
   ]
  },
  {
   "cell_type": "code",
   "execution_count": 4,
   "metadata": {},
   "outputs": [],
   "source": [
    "def greater_than_zero(num):\n",
    "    if num > 0:\n",
    "        return \"greater than zero\"\n",
    "    elif num < 0:\n",
    "        return \"less than zero\"\n",
    "    else:\n",
    "        return \"Zero\""
   ]
  },
  {
   "attachments": {},
   "cell_type": "markdown",
   "metadata": {},
   "source": [
    "jf;dj knx"
   ]
  },
  {
   "attachments": {},
   "cell_type": "markdown",
   "metadata": {},
   "source": [
    "**Q.4 What are lambda functions in Python? How are they different from regular functions? Provide an**\n",
    "**example where a lambda function can be useful.**"
   ]
  },
  {
   "attachments": {},
   "cell_type": "markdown",
   "metadata": {},
   "source": [
    "Lambda functions are also called as anonymous functions in python, which are restricted to one line functions.\n",
    "- The difference between regular functions and lambda functions is that lambda function requires lambda keyword to define lambda function, whereas regular function requires def keyword to define.\n"
   ]
  },
  {
   "cell_type": "code",
   "execution_count": 6,
   "metadata": {},
   "outputs": [
    {
     "data": {
      "text/plain": [
       "7"
      ]
     },
     "execution_count": 6,
     "metadata": {},
     "output_type": "execute_result"
    }
   ],
   "source": [
    "add = lambda x1, x2: x1+x2\n",
    "add(3,4)"
   ]
  },
  {
   "attachments": {},
   "cell_type": "markdown",
   "metadata": {},
   "source": [
    "**Q.5 How does the concept of \"scope\" apply to functions in Python? Explain the difference between local**\n",
    "**scope and global scope.**"
   ]
  },
  {
   "attachments": {},
   "cell_type": "markdown",
   "metadata": {},
   "source": [
    "The scope of variables in functions in python refers that how and where the variable can be accessible and able to modify.\n",
    "\\\n",
    "There are two different types of scopes \n",
    "1) Local scope\n",
    "2) Global scope\n",
    "\n",
    "1) Local scope:- The variables that are defined inside the function will have the local scope, that means they will not be accessible from outside that function.\n",
    "2) Global scope:- The variables that are defined outside the function will have global scope, that means they will be accessible from outside the function or anywhere in the program."
   ]
  },
  {
   "attachments": {},
   "cell_type": "markdown",
   "metadata": {},
   "source": [
    "**Q.6 How can you use the \"return\" statement in a Python function to return multiple values?**"
   ]
  },
  {
   "attachments": {},
   "cell_type": "markdown",
   "metadata": {},
   "source": [
    "we can return multiple values by writing comma seperated in the return statemenmt.\n",
    "\n",
    "exa:- return a, b, c\n",
    "\\\n",
    "Here we are returning there values a, b, and from the single return statement "
   ]
  },
  {
   "attachments": {},
   "cell_type": "markdown",
   "metadata": {},
   "source": [
    "**Q.7 What is the difference between the \"pass by value\" and \"pass by reference\" concepts when it**\n",
    "**comes to function arguments in Python?**"
   ]
  },
  {
   "attachments": {},
   "cell_type": "markdown",
   "metadata": {},
   "source": [
    "1. Pass by Value:\n",
    "In programming languages that use pass by value, a copy of the value of the variable is passed to a function. \n",
    "Any modifications made to the parameter within the function do not affect the original variable.\n",
    "\n",
    "2. Pass by Reference:\n",
    "In pass by reference, a reference to the original variable is passed to the function. This means that changes\n",
    "made to the parameter within the function will affect the original variable outside of the function."
   ]
  },
  {
   "attachments": {},
   "cell_type": "markdown",
   "metadata": {},
   "source": [
    "**Q.8 Create a function that can intake integer or decimal value and do following operations:**\n",
    "1. Logarithmic function (log x)\n",
    "2. Exponential function (exp(x))\n",
    "3. Power function with base 2 (2x)\n",
    "4. Square root"
   ]
  },
  {
   "cell_type": "code",
   "execution_count": 3,
   "metadata": {},
   "outputs": [],
   "source": [
    "import math\n",
    "\n",
    "def log_func(x):\n",
    "    log_result = math.log(x)\n",
    "    return log_result\n",
    "\n",
    "def exp_func(x):\n",
    "    exp_result = math.exp(x)\n",
    "    return exp_result\n",
    "\n",
    "def power_func(x, y):\n",
    "    power_result = math.pow(x, y)\n",
    "    return power_result\n",
    "\n",
    "def squaure_root(x):\n",
    "    result = math.sqrt(x)\n",
    "    return result"
   ]
  },
  {
   "attachments": {},
   "cell_type": "markdown",
   "metadata": {},
   "source": [
    "**Q.9 Create a function that takes a full name as an argument and returns first name and last name**"
   ]
  },
  {
   "cell_type": "code",
   "execution_count": 9,
   "metadata": {},
   "outputs": [
    {
     "data": {
      "text/plain": [
       "(('first name is :', 'Nishchal'), ('last name is :', 'Jinturkar'))"
      ]
     },
     "execution_count": 9,
     "metadata": {},
     "output_type": "execute_result"
    }
   ],
   "source": [
    "def name(name):\n",
    "    first_name = \"first name is :\",name.split(\" \")[0]\n",
    "    last_name = \"last name is :\",name.split(\" \")[1]\n",
    "    return first_name, last_name\n",
    "\n",
    "name(\"Nishchal Jinturkar\")"
   ]
  },
  {
   "cell_type": "code",
   "execution_count": null,
   "metadata": {},
   "outputs": [],
   "source": []
  }
 ],
 "metadata": {
  "kernelspec": {
   "display_name": "base",
   "language": "python",
   "name": "python3"
  },
  "language_info": {
   "codemirror_mode": {
    "name": "ipython",
    "version": 3
   },
   "file_extension": ".py",
   "mimetype": "text/x-python",
   "name": "python",
   "nbconvert_exporter": "python",
   "pygments_lexer": "ipython3",
   "version": "3.10.11"
  },
  "orig_nbformat": 4
 },
 "nbformat": 4,
 "nbformat_minor": 2
}
