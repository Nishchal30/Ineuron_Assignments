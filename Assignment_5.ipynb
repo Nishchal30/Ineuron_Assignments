{
 "cells": [
  {
   "attachments": {},
   "cell_type": "markdown",
   "metadata": {},
   "source": [
    "**1. What does an empty dictionary's code look like?**"
   ]
  },
  {
   "attachments": {},
   "cell_type": "markdown",
   "metadata": {},
   "source": [
    "An empty dictionay's code looks like **{}**.\n",
    "As we know dictionaries are defined as {}"
   ]
  },
  {
   "attachments": {},
   "cell_type": "markdown",
   "metadata": {},
   "source": [
    "**2. What is the value of a dictionary value with the key 'foo' and the value 42?**"
   ]
  },
  {
   "attachments": {},
   "cell_type": "markdown",
   "metadata": {},
   "source": [
    "value = {'foo' : 42}\n",
    "This will be the dictionary values as 'foo' as key and value 42."
   ]
  },
  {
   "attachments": {},
   "cell_type": "markdown",
   "metadata": {},
   "source": [
    "**3. What is the most significant distinction between a dictionary and a list?**"
   ]
  },
  {
   "attachments": {},
   "cell_type": "markdown",
   "metadata": {},
   "source": [
    "The most significant distinction between a dictionary and a list is:\n",
    "- The elements of list are accessed via indices. On the other hand elements of dictionaries are accessed via key-values.\n",
    "- In the list, the order of elements is being maintained, while in dictionary it dosen't."
   ]
  },
  {
   "attachments": {},
   "cell_type": "markdown",
   "metadata": {},
   "source": [
    "**4. What happens if you try to access spam['foo'] if spam is {'bar': 100}?**"
   ]
  },
  {
   "attachments": {},
   "cell_type": "markdown",
   "metadata": {},
   "source": [
    "This will give a key error. we are trying to access the value of the key from the dictionary which dosen't exist in that dictionary."
   ]
  },
  {
   "attachments": {},
   "cell_type": "markdown",
   "metadata": {},
   "source": [
    "**5. If a dictionary is stored in spam, what is the difference between the expressions 'cat' in spam and 'cat' in spam.keys()?**"
   ]
  },
  {
   "cell_type": "code",
   "execution_count": 4,
   "metadata": {},
   "outputs": [
    {
     "name": "stdout",
     "output_type": "stream",
     "text": [
      "True\n",
      "True\n"
     ]
    }
   ],
   "source": [
    "spam = {'cat' : 2}\n",
    "print('cat' in spam)\n",
    "print('cat' in spam.keys())\n",
    "\n",
    "# Both the statements will return true as 'cat' is present in keys in the spam dictionary"
   ]
  },
  {
   "attachments": {},
   "cell_type": "markdown",
   "metadata": {},
   "source": [
    "**6. If a dictionary is stored in spam, what is the difference between the expressions 'cat' in spam and 'cat' in spam.values()?**"
   ]
  },
  {
   "cell_type": "code",
   "execution_count": 6,
   "metadata": {},
   "outputs": [
    {
     "name": "stdout",
     "output_type": "stream",
     "text": [
      "True\n",
      "False\n"
     ]
    }
   ],
   "source": [
    "spam = {'cat' : 2}\n",
    "print('cat' in spam) # This will return True as 'cat' is present in spam\n",
    "print('cat' in spam.values()) # This will return false as 'cat' is not present as values in spam, its a key.\n"
   ]
  },
  {
   "attachments": {},
   "cell_type": "markdown",
   "metadata": {},
   "source": [
    "**7. What is a shortcut for the following code?\n",
    "\\\n",
    "if 'color' not in spam:\n",
    "\\\n",
    "spam['color'] = 'black'**"
   ]
  },
  {
   "cell_type": "code",
   "execution_count": 1,
   "metadata": {},
   "outputs": [
    {
     "data": {
      "text/plain": [
       "{'cat': 100, 'color': 'black'}"
      ]
     },
     "execution_count": 1,
     "metadata": {},
     "output_type": "execute_result"
    }
   ],
   "source": [
    "spam ={'cat':100}\n",
    "spam.setdefault('color','black')\n",
    "spam\n"
   ]
  },
  {
   "attachments": {},
   "cell_type": "markdown",
   "metadata": {},
   "source": [
    "**8. How do you \"pretty print\" dictionary values using which module and function?**"
   ]
  },
  {
   "cell_type": "code",
   "execution_count": 3,
   "metadata": {},
   "outputs": [],
   "source": [
    "import pprint\n",
    "dct = [ {'Name': 'abc', 'surname': 'xyz', 'Country': 'India'},\n",
    "  {'Name': 'pqr', 'surname': 'whb', 'Country': 'China'},\n",
    "  {'Name': 'qwe', 'surname': 'ihd', 'Country': 'UK'},\n",
    "  {'Name': 'rty', 'surname': 'euy', 'Country': 'USA'}\n",
    "]"
   ]
  },
  {
   "cell_type": "code",
   "execution_count": 4,
   "metadata": {},
   "outputs": [
    {
     "name": "stdout",
     "output_type": "stream",
     "text": [
      "[{'Country': 'India', 'Name': 'abc', 'surname': 'xyz'},\n",
      " {'Country': 'China', 'Name': 'pqr', 'surname': 'whb'},\n",
      " {'Country': 'UK', 'Name': 'qwe', 'surname': 'ihd'},\n",
      " {'Country': 'USA', 'Name': 'rty', 'surname': 'euy'}]\n"
     ]
    }
   ],
   "source": [
    "# printing with pprint()\n",
    "pprint.pprint(dct)"
   ]
  },
  {
   "cell_type": "code",
   "execution_count": null,
   "metadata": {},
   "outputs": [],
   "source": []
  }
 ],
 "metadata": {
  "kernelspec": {
   "display_name": "base",
   "language": "python",
   "name": "python3"
  },
  "language_info": {
   "codemirror_mode": {
    "name": "ipython",
    "version": 3
   },
   "file_extension": ".py",
   "mimetype": "text/x-python",
   "name": "python",
   "nbconvert_exporter": "python",
   "pygments_lexer": "ipython3",
   "version": "3.10.11"
  },
  "orig_nbformat": 4
 },
 "nbformat": 4,
 "nbformat_minor": 2
}
