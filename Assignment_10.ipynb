{
 "cells": [
  {
   "cell_type": "markdown",
   "metadata": {},
   "source": [
    "**Q.1 What is the role of try and exception block?**"
   ]
  },
  {
   "cell_type": "markdown",
   "metadata": {},
   "source": [
    "The try and except block comes into picture, when we are not sure about our code that our code will run perfectly fine without any errors, at that time we can use try and except block.\n",
    "\\\n",
    "We can write the whole code in try block, and in except block we can just write except Exception and print that exception. It will give us an error or any exception occured in our code."
   ]
  },
  {
   "cell_type": "markdown",
   "metadata": {},
   "source": [
    "**Q.2 What is the syntax for a basic try-except block?**"
   ]
  },
  {
   "cell_type": "code",
   "execution_count": 8,
   "metadata": {},
   "outputs": [
    {
     "name": "stdout",
     "output_type": "stream",
     "text": [
      "division by zero\n"
     ]
    }
   ],
   "source": [
    "try:\n",
    "    a = 2\n",
    "    b = 0\n",
    "    c = a / b\n",
    "    print(c)\n",
    "\n",
    "except Exception as e:\n",
    "    print(e)"
   ]
  },
  {
   "cell_type": "markdown",
   "metadata": {},
   "source": [
    "**Q.3 What happens if an exception occurs inside a try block and there is no matching\n",
    "except block?**"
   ]
  },
  {
   "cell_type": "markdown",
   "metadata": {},
   "source": [
    "If an exception occurs inside a try block and there is not matching except block, then it will throw an error which has occured.It will remain unhandled and the program will terminate."
   ]
  },
  {
   "cell_type": "code",
   "execution_count": 9,
   "metadata": {},
   "outputs": [
    {
     "ename": "ZeroDivisionError",
     "evalue": "division by zero",
     "output_type": "error",
     "traceback": [
      "\u001b[1;31m---------------------------------------------------------------------------\u001b[0m",
      "\u001b[1;31mZeroDivisionError\u001b[0m                         Traceback (most recent call last)",
      "Cell \u001b[1;32mIn[9], line 4\u001b[0m\n\u001b[0;32m      2\u001b[0m     a \u001b[39m=\u001b[39m \u001b[39m2\u001b[39m\n\u001b[0;32m      3\u001b[0m     b \u001b[39m=\u001b[39m \u001b[39m0\u001b[39m\n\u001b[1;32m----> 4\u001b[0m     c \u001b[39m=\u001b[39m a \u001b[39m/\u001b[39;49m b\n\u001b[0;32m      5\u001b[0m     \u001b[39mprint\u001b[39m(c)\n\u001b[0;32m      7\u001b[0m \u001b[39mexcept\u001b[39;00m \u001b[39mValueError\u001b[39;00m \u001b[39mas\u001b[39;00m e:\n",
      "\u001b[1;31mZeroDivisionError\u001b[0m: division by zero"
     ]
    }
   ],
   "source": [
    "try:\n",
    "    a = 2\n",
    "    b = 0\n",
    "    c = a / b\n",
    "    print(c)\n",
    "\n",
    "except ValueError as e:\n",
    "    print(e)"
   ]
  },
  {
   "cell_type": "markdown",
   "metadata": {},
   "source": [
    "**Q.4 What is the difference between using a bare except block and specifying a specific\n",
    "exception type?**"
   ]
  },
  {
   "cell_type": "markdown",
   "metadata": {},
   "source": [
    "Writing a specific exception type, can lead to understand the error message correctly and will help to debug the code easily.\n",
    "\\\n",
    "Writing a bare except will capture all the errors that are not specified and will return the system generated error messages."
   ]
  },
  {
   "cell_type": "markdown",
   "metadata": {},
   "source": [
    "**Q.5 Can you have nested try-except blocks in Python? If yes, then give an example**"
   ]
  },
  {
   "cell_type": "markdown",
   "metadata": {},
   "source": [
    "We can have nested try-except blocks in python. In case of any exception raised in nested try block, then either the nested except block will capture that error or else, the outer except block will capture that exception."
   ]
  },
  {
   "cell_type": "code",
   "execution_count": 1,
   "metadata": {},
   "outputs": [
    {
     "name": "stdout",
     "output_type": "stream",
     "text": [
      "outer try block\n",
      "nested try block\n",
      "outer except block\n",
      "division by zero\n"
     ]
    }
   ],
   "source": [
    "x = 10\n",
    "y = 0\n",
    " \n",
    "try:\n",
    "    print(\"outer try block\")\n",
    "    try:\n",
    "        print(\"nested try block\")\n",
    "        print(x / y)\n",
    "    except TypeError as te:\n",
    "        print(\"nested except block\")\n",
    "        print(te)\n",
    "except ZeroDivisionError as ze:\n",
    "    print(\"outer except block\")\n",
    "    print(ze)"
   ]
  },
  {
   "cell_type": "markdown",
   "metadata": {},
   "source": [
    "**Q.6 Can we use multiple exception blocks, if yes then give an example**"
   ]
  },
  {
   "cell_type": "markdown",
   "metadata": {},
   "source": [
    "Yes, we can use multiple exception blocks, if our code contains multiple exceptions then we can specify that all different types of exceptions in our code."
   ]
  },
  {
   "cell_type": "code",
   "execution_count": 2,
   "metadata": {},
   "outputs": [
    {
     "name": "stdout",
     "output_type": "stream",
     "text": [
      "File not found\n"
     ]
    }
   ],
   "source": [
    "g = 100 # Unrelated variable declared previously\n",
    "try:\n",
    "    with open(\"example.txt\", \"r\") as f:\n",
    "        x=print(f.read())\n",
    "\n",
    "except FileNotFoundError:\n",
    "    print(\"File not found\")\n",
    "except AttributeError:\n",
    "    print(\"Reading wrong variable\")\n",
    "except Exception as e:\n",
    "    print(\"Unknown Error\", e)"
   ]
  },
  {
   "cell_type": "markdown",
   "metadata": {},
   "source": [
    "**Q.7 Write the reason due to which following errors are raised:**"
   ]
  },
  {
   "cell_type": "markdown",
   "metadata": {},
   "source": [
    "1. EOFError\n",
    "2. FloatingPointError\n",
    "3. IndexError\n",
    "4. MemoryError\n",
    "5. OverflowError\n",
    "6. TabError\n",
    "7. ValueError"
   ]
  },
  {
   "cell_type": "markdown",
   "metadata": {},
   "source": [
    "1. EOFError: EOF stands for End of File in Python. Unexpected EOF implies that the interpreter has reached the end of our program before executing all the code.\n",
    "\\\n",
    "This error is likely to occur when:\n",
    "- we fail to declare a statement for loop (while/for)\n",
    "- we omit the closing parenthesis or curly bracket in a block of code."
   ]
  },
  {
   "cell_type": "markdown",
   "metadata": {},
   "source": [
    "2. FloatingPointError: This exception occurs when we have used integer datatype to declare a variable, and while passing the values to that variable we have used decimal numnbers then FloatingPointError occurs."
   ]
  },
  {
   "cell_type": "markdown",
   "metadata": {},
   "source": [
    "3. IndexError: This exception in python occurs when we try to access an element from a list or tuple from an index that is not present in the list. For example, we have a list of 10 elements, the index is from 0 to 9.\n"
   ]
  },
  {
   "cell_type": "markdown",
   "metadata": {},
   "source": [
    "4. MemoryError: This error occurs when we are trying to load or read any bigger data as compare to the RAM, then it will throw an MemoryError.\n"
   ]
  },
  {
   "cell_type": "markdown",
   "metadata": {},
   "source": [
    "5. OverflowError: This error occurs when a mathematical operation or calculation produces a result that is too large to be represented within the available memory or numeric range."
   ]
  },
  {
   "cell_type": "markdown",
   "metadata": {},
   "source": [
    "6. TabError: This error occurs when the code has not proper indentation, or else when our code contains tabs and spaces at the same time then it will create a TabError."
   ]
  },
  {
   "cell_type": "markdown",
   "metadata": {},
   "source": [
    "7. ValueError: When we give incorrect value to the argument where the datatype of that argument is correct, but the value is incorrect."
   ]
  },
  {
   "cell_type": "markdown",
   "metadata": {},
   "source": [
    "**Q.8 Write code for the following given scenario and add try-exception block to it.**\n",
    "1. Program to divide two numbers\n",
    "2. Program to convert a string to an integer\n",
    "3. Program to access an element in a list\n",
    "4. Program to handle a specific exception\n",
    "5. Program to handle any exception"
   ]
  },
  {
   "cell_type": "code",
   "execution_count": 35,
   "metadata": {},
   "outputs": [
    {
     "name": "stdout",
     "output_type": "stream",
     "text": [
      "The value of b cannot be zero\n"
     ]
    }
   ],
   "source": [
    "#Program to divide two numbers\n",
    "def divide(a, b):\n",
    "    try:\n",
    "        result = a / b\n",
    "        return result\n",
    "    \n",
    "    except ZeroDivisionError:\n",
    "        print(\"The value of b cannot be zero\")\n",
    "    except Exception as e:\n",
    "        print(e)\n",
    "divide(3.4, 0)"
   ]
  },
  {
   "cell_type": "code",
   "execution_count": 36,
   "metadata": {},
   "outputs": [
    {
     "data": {
      "text/plain": [
       "0"
      ]
     },
     "execution_count": 36,
     "metadata": {},
     "output_type": "execute_result"
    }
   ],
   "source": [
    "#Program to convert a string to an integer\n",
    "def convert(string):\n",
    "    \n",
    "    try:\n",
    "        type(string) == str\n",
    "        return int(string)            \n",
    "    except TypeError:\n",
    "        print(\"Invalid datatype\")\n",
    "    except Exception as e:\n",
    "        print(e)\n",
    "\n",
    "convert(0.7)"
   ]
  },
  {
   "cell_type": "code",
   "execution_count": 39,
   "metadata": {},
   "outputs": [
    {
     "name": "stdout",
     "output_type": "stream",
     "text": [
      "Index out of range\n"
     ]
    }
   ],
   "source": [
    "#Program to access an element in a list\n",
    "def access_element(lst, index):\n",
    "    try:\n",
    "        element = lst[index]\n",
    "        print(\"Element found:\", element)\n",
    "    except IndexError:\n",
    "        print(\"Index out of range\")\n",
    "    except Exception as e:\n",
    "        print(e)\n",
    "\n",
    "access_element([1, 2, 3, 4, 5], 5)\n"
   ]
  },
  {
   "cell_type": "code",
   "execution_count": 40,
   "metadata": {},
   "outputs": [
    {
     "name": "stdout",
     "output_type": "stream",
     "text": [
      "The value of b cannot be zero\n"
     ]
    }
   ],
   "source": [
    "#Program to handle a specific exception\n",
    "def specific_exception(a, b):\n",
    "    try:\n",
    "        result = a / b\n",
    "        return result\n",
    "    \n",
    "    except ZeroDivisionError:\n",
    "        print(\"The value of b cannot be zero\")\n",
    "    except Exception as e:\n",
    "        print(e)\n",
    "specific_exception(3.4, 0)"
   ]
  },
  {
   "cell_type": "code",
   "execution_count": 42,
   "metadata": {},
   "outputs": [
    {
     "name": "stdout",
     "output_type": "stream",
     "text": [
      "unsupported operand type(s) for /: 'str' and 'str'\n"
     ]
    }
   ],
   "source": [
    "#Program to handle any exception\n",
    "def any_exception(a, b):\n",
    "    try:\n",
    "        result = a / b\n",
    "        return result\n",
    "    except Exception as e:\n",
    "        print(e)\n",
    "any_exception(\"3\", \"aa\")\n"
   ]
  },
  {
   "cell_type": "code",
   "execution_count": null,
   "metadata": {},
   "outputs": [],
   "source": []
  }
 ],
 "metadata": {
  "kernelspec": {
   "display_name": "base",
   "language": "python",
   "name": "python3"
  },
  "language_info": {
   "codemirror_mode": {
    "name": "ipython",
    "version": 3
   },
   "file_extension": ".py",
   "mimetype": "text/x-python",
   "name": "python",
   "nbconvert_exporter": "python",
   "pygments_lexer": "ipython3",
   "version": "3.10.11"
  },
  "orig_nbformat": 4
 },
 "nbformat": 4,
 "nbformat_minor": 2
}
