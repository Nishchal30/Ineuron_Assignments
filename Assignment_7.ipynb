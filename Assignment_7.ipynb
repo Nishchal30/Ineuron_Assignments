{
 "cells": [
  {
   "attachments": {},
   "cell_type": "markdown",
   "metadata": {},
   "source": [
    "**Q.1. Create two int type variables, apply addition, subtraction, division and multiplications**\n",
    "**and store the results in variables. Then print the data in the following format by calling the**\n",
    "**variables:**"
   ]
  },
  {
   "attachments": {},
   "cell_type": "raw",
   "metadata": {},
   "source": [
    "First variable is __ & second variable is __.\n",
    "Addition: __ + __ = __\n",
    "Subtraction: __ - __ = __\n",
    "Multiplication: __ * __ = __\n",
    "Division: __ / __ = __"
   ]
  },
  {
   "cell_type": "code",
   "execution_count": 2,
   "metadata": {},
   "outputs": [
    {
     "name": "stdout",
     "output_type": "stream",
     "text": [
      "First variable is 4 & second variable is 6\n",
      "Addition: 4 + 6 = 10\n",
      "Subtraction: 4 - 6 = -2\n",
      "Multiplication: 4 * 6 = 24\n",
      "Division: 4 / 6 = 0.6666666666666666\n"
     ]
    }
   ],
   "source": [
    "a = int(input(\"enter the first number\"))\n",
    "b = int(input(\"enter the second number\"))\n",
    "\n",
    "add = a + b\n",
    "sub = a - b\n",
    "mul = a * b\n",
    "div = a / b\n",
    "\n",
    "print(f\"First variable is {a} & second variable is {b}\")\n",
    "print(f\"Addition: {a} + {b} = {add}\")\n",
    "print(f\"Subtraction: {a} - {b} = {sub}\")\n",
    "print(f\"Multiplication: {a} * {b} = {mul}\")\n",
    "print(f\"Division: {a} / {b} = {div}\")\n"
   ]
  },
  {
   "attachments": {},
   "cell_type": "markdown",
   "metadata": {},
   "source": [
    "**Q.2. What is the difference between the following operators:**\n",
    "\\\n",
    "(i) ‘/’ & ‘//’\n",
    "\\\n",
    "(ii) ‘**’ & ‘^’"
   ]
  },
  {
   "attachments": {},
   "cell_type": "markdown",
   "metadata": {},
   "source": [
    "1. The '/' is the division operator which is a simple division operator.\n",
    "2. The '//' is the floor division operator which gives only the quotient part of the division.\n",
    "3. '**' is the exponential operator means RHS or this operator will take as a power to LHS of this operator\n",
    "4. '^' is the XOR operator."
   ]
  },
  {
   "attachments": {},
   "cell_type": "markdown",
   "metadata": {},
   "source": [
    "**Q.3. List the logical operators.**"
   ]
  },
  {
   "attachments": {},
   "cell_type": "markdown",
   "metadata": {},
   "source": [
    "1. AND:- the AND operator returns true if both the statements are true.\n",
    "2. OR:- OR operator returns true if any one of the statement is true.\n",
    "3. NOT:- NOT operator returns the opposite result as what the result is"
   ]
  },
  {
   "attachments": {},
   "cell_type": "markdown",
   "metadata": {},
   "source": [
    "**Q.4. Explain right shift operator and left shift operator with examples.**"
   ]
  },
  {
   "attachments": {},
   "cell_type": "markdown",
   "metadata": {},
   "source": [
    "- Left Shift:- The left operands value is moved left by the number of bits specified by the right operand.\n",
    "\\\n",
    "exa: a << 2 = 240 (means 1111 0000)\n",
    "\\\n",
    "- Right shift:- The left operands value is moved right by the number of bits specified by the right operand.\n",
    "\\\n",
    "exa: a >> 2 = 15 (means 0000 1111)\n"
   ]
  },
  {
   "attachments": {},
   "cell_type": "markdown",
   "metadata": {},
   "source": [
    "**Q.5. Create a list containing int type data of length 15. Then write a code to check if 10 is**\n",
    "**present in the list or not.**"
   ]
  },
  {
   "cell_type": "code",
   "execution_count": 15,
   "metadata": {},
   "outputs": [
    {
     "name": "stdout",
     "output_type": "stream",
     "text": [
      "True\n"
     ]
    }
   ],
   "source": [
    "l = [1,2,3,4,5,6,7,89,10,5,3,7,4,6,4]\n",
    "if (10 in l):\n",
    "    print(True)\n",
    "else:\n",
    "    print(False)"
   ]
  },
  {
   "cell_type": "code",
   "execution_count": null,
   "metadata": {},
   "outputs": [],
   "source": []
  }
 ],
 "metadata": {
  "kernelspec": {
   "display_name": "base",
   "language": "python",
   "name": "python3"
  },
  "language_info": {
   "codemirror_mode": {
    "name": "ipython",
    "version": 3
   },
   "file_extension": ".py",
   "mimetype": "text/x-python",
   "name": "python",
   "nbconvert_exporter": "python",
   "pygments_lexer": "ipython3",
   "version": "3.10.11"
  },
  "orig_nbformat": 4
 },
 "nbformat": 4,
 "nbformat_minor": 2
}
